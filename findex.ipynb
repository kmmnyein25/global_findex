{
 "cells": [
  {
   "cell_type": "code",
   "execution_count": 2,
   "id": "85251861",
   "metadata": {
    "ExecuteTime": {
     "end_time": "2021-11-05T08:09:48.055962Z",
     "start_time": "2021-11-05T08:09:41.083907Z"
    }
   },
   "outputs": [],
   "source": [
    "import pandas as pd\n",
    "pd.set_option('mode.chained_assignment', None) # suppress unnecessary warnings\n",
    "import numpy as np\n",
    "from os import listdir\n",
    "import re\n",
    "\n",
    "import sqlalchemy as sa\n",
    "import cx_Oracle\n",
    "\n",
    "from pandas.tseries.offsets import Day, MonthEnd\n",
    "from dateutil.relativedelta import relativedelta\n",
    "import datetime\n",
    "import os\n",
    "\n",
    "import seaborn as sns\n",
    "import matplotlib.pyplot as plt\n",
    "%matplotlib inline\n",
    "from chart_studio.plotly import plot, iplot\n",
    "from plotly.offline import download_plotlyjs, init_notebook_mode, plot, iplot\n",
    "import plotly.express as px\n",
    "import plotly.graph_objects as go\n",
    "from plotly.subplots import make_subplots\n",
    "\n",
    "import warnings\n",
    "warnings.filterwarnings('ignore')"
   ]
  },
  {
   "cell_type": "code",
   "execution_count": 3,
   "id": "b34c0104",
   "metadata": {
    "ExecuteTime": {
     "end_time": "2021-11-05T08:09:48.063895Z",
     "start_time": "2021-11-05T08:09:48.056913Z"
    }
   },
   "outputs": [
    {
     "data": {
      "text/plain": [
       "['.ipynb_checkpoints',\n",
       " 'financial_inclusion.png',\n",
       " 'findex.ipynb',\n",
       " 'FINDEXCountry-Series.csv',\n",
       " 'FINDEXCountry.csv',\n",
       " 'FINDEXData.csv',\n",
       " 'FINDEXFootNote.csv',\n",
       " 'FINDEXSeries.csv',\n",
       " 'wld_lmc_mmr.xlsx']"
      ]
     },
     "execution_count": 3,
     "metadata": {},
     "output_type": "execute_result"
    }
   ],
   "source": [
    "os.listdir()"
   ]
  },
  {
   "cell_type": "code",
   "execution_count": 4,
   "id": "5fc34ffd",
   "metadata": {
    "ExecuteTime": {
     "end_time": "2021-11-05T08:09:48.111913Z",
     "start_time": "2021-11-05T08:09:48.065896Z"
    }
   },
   "outputs": [],
   "source": [
    "country = pd.read_csv('FINDEXCountry.csv').dropna(how='all',axis='columns')"
   ]
  },
  {
   "cell_type": "code",
   "execution_count": 5,
   "id": "63ac2b8a",
   "metadata": {
    "ExecuteTime": {
     "end_time": "2021-11-05T08:09:48.827059Z",
     "start_time": "2021-11-05T08:09:48.112763Z"
    }
   },
   "outputs": [],
   "source": [
    "#reading main csv file\n",
    "df = pd.read_csv('FINDEXData.csv')\n",
    "\n",
    "#removing columns that have only null values\n",
    "df = df.drop(columns=['Indicator Code']).dropna(how='all',axis='columns')\n",
    "\n",
    "#removing all the rows that have only null values\n",
    "df = df.set_index(['Country Name','Country Code','Indicator Name']).dropna(how='all',axis='rows').reset_index()\n",
    "\n",
    "#taking only 2017 data\n",
    "df = df.drop(columns=['Country Name','2011','2014'])\n",
    "\n",
    "#merging with country dataset\n",
    "df = df.merge(country[['Country Code', 'Short Name','Region','Income Group']],on='Country Code')\n",
    "\n",
    "#making the column names uniformed\n",
    "df.columns = df.columns.str.lower().str.replace(' ','_')\n",
    "\n",
    "#split the indicator into two different groups with open parentheses as delimiter\n",
    "df[['main_indicator','sub_indicator']] = df['indicator_name'].str.rsplit(\"(\", expand=True)\n",
    "\n",
    "#removing close parentheses\n",
    "df['sub_indicator'] = df['sub_indicator'].str.replace(\")\",'')\n",
    "\n",
    "#only taking main category which is % age 15+\n",
    "df = df.loc[df['sub_indicator']=='% age 15+']\n",
    "\n",
    "#removing those that contains colon or comma\n",
    "df = df[~df['main_indicator'].str.contains(\":\")]\n",
    "df = df[~df['main_indicator'].str.contains(\",\")]\n",
    "\n",
    "#removing the sub indicator columns and removing those columns with null values only\n",
    "df = df.drop(columns=['sub_indicator']).dropna(how='all',axis='columns')"
   ]
  },
  {
   "cell_type": "code",
   "execution_count": 6,
   "id": "017449f9",
   "metadata": {
    "ExecuteTime": {
     "end_time": "2021-11-05T08:09:48.834880Z",
     "start_time": "2021-11-05T08:09:48.827897Z"
    }
   },
   "outputs": [],
   "source": [
    "#Choosing the country\n",
    "country_code_list = ['Myanmar']\n",
    "selected = df.loc[df['short_name'].isin(country_code_list)]\n",
    "selected = selected.drop(columns=['indicator_name','region','income_group']).dropna(subset=['2017'])"
   ]
  },
  {
   "cell_type": "code",
   "execution_count": 7,
   "id": "4e131f9f",
   "metadata": {
    "ExecuteTime": {
     "end_time": "2021-11-05T08:09:48.861860Z",
     "start_time": "2021-11-05T08:09:48.835913Z"
    }
   },
   "outputs": [
    {
     "data": {
      "text/html": [
       "<div>\n",
       "<style scoped>\n",
       "    .dataframe tbody tr th:only-of-type {\n",
       "        vertical-align: middle;\n",
       "    }\n",
       "\n",
       "    .dataframe tbody tr th {\n",
       "        vertical-align: top;\n",
       "    }\n",
       "\n",
       "    .dataframe thead th {\n",
       "        text-align: right;\n",
       "    }\n",
       "</style>\n",
       "<table border=\"1\" class=\"dataframe\">\n",
       "  <thead>\n",
       "    <tr style=\"text-align: right;\">\n",
       "      <th></th>\n",
       "      <th>country_code</th>\n",
       "      <th>2017</th>\n",
       "      <th>short_name</th>\n",
       "      <th>main_indicator</th>\n",
       "    </tr>\n",
       "  </thead>\n",
       "  <tbody>\n",
       "    <tr>\n",
       "      <th>81229</th>\n",
       "      <td>MMR</td>\n",
       "      <td>25.992298</td>\n",
       "      <td>Myanmar</td>\n",
       "      <td>Account</td>\n",
       "    </tr>\n",
       "    <tr>\n",
       "      <th>81241</th>\n",
       "      <td>MMR</td>\n",
       "      <td>43.872032</td>\n",
       "      <td>Myanmar</td>\n",
       "      <td>Borrowed any money in the past year</td>\n",
       "    </tr>\n",
       "    <tr>\n",
       "      <th>81265</th>\n",
       "      <td>MMR</td>\n",
       "      <td>7.060641</td>\n",
       "      <td>Myanmar</td>\n",
       "      <td>Borrowed for health or medical purposes</td>\n",
       "    </tr>\n",
       "    <tr>\n",
       "      <th>81277</th>\n",
       "      <td>MMR</td>\n",
       "      <td>19.091125</td>\n",
       "      <td>Myanmar</td>\n",
       "      <td>Borrowed from a financial institution</td>\n",
       "    </tr>\n",
       "    <tr>\n",
       "      <th>81278</th>\n",
       "      <td>MMR</td>\n",
       "      <td>19.091125</td>\n",
       "      <td>Myanmar</td>\n",
       "      <td>Borrowed from a financial institution or used ...</td>\n",
       "    </tr>\n",
       "  </tbody>\n",
       "</table>\n",
       "</div>"
      ],
      "text/plain": [
       "      country_code       2017 short_name  \\\n",
       "81229          MMR  25.992298    Myanmar   \n",
       "81241          MMR  43.872032    Myanmar   \n",
       "81265          MMR   7.060641    Myanmar   \n",
       "81277          MMR  19.091125    Myanmar   \n",
       "81278          MMR  19.091125    Myanmar   \n",
       "\n",
       "                                          main_indicator  \n",
       "81229                                           Account   \n",
       "81241               Borrowed any money in the past year   \n",
       "81265           Borrowed for health or medical purposes   \n",
       "81277             Borrowed from a financial institution   \n",
       "81278  Borrowed from a financial institution or used ...  "
      ]
     },
     "execution_count": 7,
     "metadata": {},
     "output_type": "execute_result"
    }
   ],
   "source": [
    "selected.head()"
   ]
  },
  {
   "cell_type": "code",
   "execution_count": 161,
   "id": "6b90923c",
   "metadata": {
    "ExecuteTime": {
     "end_time": "2021-11-03T02:01:07.306109Z",
     "start_time": "2021-11-03T02:01:07.302121Z"
    }
   },
   "outputs": [],
   "source": []
  },
  {
   "cell_type": "markdown",
   "id": "6b2ff4f1",
   "metadata": {
    "ExecuteTime": {
     "end_time": "2021-11-02T14:18:59.902446Z",
     "start_time": "2021-11-02T14:18:59.896394Z"
    }
   },
   "source": [
    "# Digital "
   ]
  },
  {
   "cell_type": "code",
   "execution_count": 146,
   "id": "59871d1c",
   "metadata": {
    "ExecuteTime": {
     "end_time": "2021-11-02T14:19:00.332445Z",
     "start_time": "2021-11-02T14:19:00.307881Z"
    }
   },
   "outputs": [
    {
     "data": {
      "text/html": [
       "<div>\n",
       "<style scoped>\n",
       "    .dataframe tbody tr th:only-of-type {\n",
       "        vertical-align: middle;\n",
       "    }\n",
       "\n",
       "    .dataframe tbody tr th {\n",
       "        vertical-align: top;\n",
       "    }\n",
       "\n",
       "    .dataframe thead th {\n",
       "        text-align: right;\n",
       "    }\n",
       "</style>\n",
       "<table border=\"1\" class=\"dataframe\">\n",
       "  <thead>\n",
       "    <tr style=\"text-align: right;\">\n",
       "      <th></th>\n",
       "      <th>main_indicator</th>\n",
       "      <th>2017</th>\n",
       "    </tr>\n",
       "  </thead>\n",
       "  <tbody>\n",
       "    <tr>\n",
       "      <th>81898</th>\n",
       "      <td>to buy something online in the past year</td>\n",
       "      <td>3.0</td>\n",
       "    </tr>\n",
       "    <tr>\n",
       "      <th>81882</th>\n",
       "      <td>to access a financial institution account in t...</td>\n",
       "      <td>1.0</td>\n",
       "    </tr>\n",
       "    <tr>\n",
       "      <th>81910</th>\n",
       "      <td>to pay bills in the past year</td>\n",
       "      <td>1.0</td>\n",
       "    </tr>\n",
       "  </tbody>\n",
       "</table>\n",
       "</div>"
      ],
      "text/plain": [
       "                                          main_indicator  2017\n",
       "81898           to buy something online in the past year   3.0\n",
       "81882  to access a financial institution account in t...   1.0\n",
       "81910                     to pay bills in the past year    1.0"
      ]
     },
     "execution_count": 146,
     "metadata": {},
     "output_type": "execute_result"
    }
   ],
   "source": [
    "digital = ['Used a mobile phone or the internet to access a financial institution account in the past year ',\n",
    "       'Used the internet to buy something online in the past year',\n",
    "       'Used the internet to pay bills in the past year ']\n",
    "digital_mm = selected.loc[(selected['main_indicator'].isin(digital))&(selected['country_code']=='MMR')]\n",
    "digital_mm['main_indicator'] = digital_mm['main_indicator'].str.replace('Used the internet ','')\n",
    "digital_mm['main_indicator'] = digital_mm['main_indicator'].str.replace('Used a mobile phone or the internet ','')\n",
    "digital_mm['2017'] = np.round(digital_mm['2017'],decimals=0) \n",
    "digital_mm[['main_indicator','2017']].sort_values(by=['2017'],ascending=False)"
   ]
  },
  {
   "cell_type": "code",
   "execution_count": 147,
   "id": "b5f0d76d",
   "metadata": {
    "ExecuteTime": {
     "end_time": "2021-11-02T14:19:01.719653Z",
     "start_time": "2021-11-02T14:19:01.704172Z"
    }
   },
   "outputs": [
    {
     "data": {
      "text/plain": [
       "array([['to buy something online in the past year'],\n",
       "       ['to access a financial institution account in the past year '],\n",
       "       ['to pay bills in the past year ']], dtype=object)"
      ]
     },
     "execution_count": 147,
     "metadata": {},
     "output_type": "execute_result"
    }
   ],
   "source": [
    "digital_mm[['main_indicator','2017']].sort_values(by=['2017'],ascending=False)[['main_indicator']].values"
   ]
  },
  {
   "cell_type": "markdown",
   "id": "416c4cdd",
   "metadata": {
    "ExecuteTime": {
     "end_time": "2021-11-02T14:18:59.902446Z",
     "start_time": "2021-11-02T14:18:59.896394Z"
    }
   },
   "source": [
    "# Savings "
   ]
  },
  {
   "cell_type": "code",
   "execution_count": 148,
   "id": "2e316fc6",
   "metadata": {
    "ExecuteTime": {
     "end_time": "2021-11-02T14:27:38.671311Z",
     "start_time": "2021-11-02T14:27:38.649096Z"
    }
   },
   "outputs": [
    {
     "data": {
      "text/html": [
       "<div>\n",
       "<style scoped>\n",
       "    .dataframe tbody tr th:only-of-type {\n",
       "        vertical-align: middle;\n",
       "    }\n",
       "\n",
       "    .dataframe tbody tr th {\n",
       "        vertical-align: top;\n",
       "    }\n",
       "\n",
       "    .dataframe thead th {\n",
       "        text-align: right;\n",
       "    }\n",
       "</style>\n",
       "<table border=\"1\" class=\"dataframe\">\n",
       "  <thead>\n",
       "    <tr style=\"text-align: right;\">\n",
       "      <th></th>\n",
       "      <th>main_indicator</th>\n",
       "      <th>2017</th>\n",
       "    </tr>\n",
       "  </thead>\n",
       "  <tbody>\n",
       "    <tr>\n",
       "      <th>81774</th>\n",
       "      <td>Saved any money in the past year</td>\n",
       "      <td>36.0</td>\n",
       "    </tr>\n",
       "    <tr>\n",
       "      <th>81810</th>\n",
       "      <td>Saved for old age</td>\n",
       "      <td>13.0</td>\n",
       "    </tr>\n",
       "    <tr>\n",
       "      <th>81786</th>\n",
       "      <td>Saved at a financial institution</td>\n",
       "      <td>8.0</td>\n",
       "    </tr>\n",
       "    <tr>\n",
       "      <th>81834</th>\n",
       "      <td>Saved using a savings club or a person outside...</td>\n",
       "      <td>8.0</td>\n",
       "    </tr>\n",
       "    <tr>\n",
       "      <th>81798</th>\n",
       "      <td>Saved for education or school fees</td>\n",
       "      <td>NaN</td>\n",
       "    </tr>\n",
       "  </tbody>\n",
       "</table>\n",
       "</div>"
      ],
      "text/plain": [
       "                                          main_indicator  2017\n",
       "81774                  Saved any money in the past year   36.0\n",
       "81810                                 Saved for old age   13.0\n",
       "81786                  Saved at a financial institution    8.0\n",
       "81834  Saved using a savings club or a person outside...   8.0\n",
       "81798                Saved for education or school fees    NaN"
      ]
     },
     "execution_count": 148,
     "metadata": {},
     "output_type": "execute_result"
    }
   ],
   "source": [
    "saved_mm = selected.loc[(selected['main_indicator'].str.contains('Saved'))&(selected['country_code']=='MMR')]\n",
    "#saved_mm['main_indicator'] = saved_mm['main_indicator'].str.replace('No account because of','')\n",
    "#saved_mm['main_indicator'] = saved_mm['main_indicator'].str.replace('saved','')\n",
    "saved_mm['2017'] = np.round(saved_mm['2017'],decimals=0) \n",
    "saved_mm[['main_indicator','2017']].sort_values(by=['2017'],ascending=False)"
   ]
  },
  {
   "cell_type": "code",
   "execution_count": 149,
   "id": "d8a6e328",
   "metadata": {
    "ExecuteTime": {
     "end_time": "2021-11-02T14:33:20.793080Z",
     "start_time": "2021-11-02T14:33:20.782376Z"
    }
   },
   "outputs": [
    {
     "data": {
      "text/plain": [
       "array([['Saved any money in the past year '],\n",
       "       ['Saved for old age '],\n",
       "       ['Saved at a financial institution '],\n",
       "       ['Saved using a savings club or a person outside the family '],\n",
       "       ['Saved for education or school fees ']], dtype=object)"
      ]
     },
     "execution_count": 149,
     "metadata": {},
     "output_type": "execute_result"
    }
   ],
   "source": [
    "saved_mm[['main_indicator','2017']].sort_values(by=['2017'],ascending=False)[['main_indicator']].values"
   ]
  },
  {
   "cell_type": "markdown",
   "id": "b2dc1bfb",
   "metadata": {
    "ExecuteTime": {
     "end_time": "2021-11-02T14:18:59.902446Z",
     "start_time": "2021-11-02T14:18:59.896394Z"
    }
   },
   "source": [
    "# Borrowing "
   ]
  },
  {
   "cell_type": "code",
   "execution_count": 137,
   "id": "8ee4a0e0",
   "metadata": {
    "ExecuteTime": {
     "end_time": "2021-11-02T13:20:06.546212Z",
     "start_time": "2021-11-02T13:20:06.522171Z"
    }
   },
   "outputs": [
    {
     "data": {
      "text/html": [
       "<div>\n",
       "<style scoped>\n",
       "    .dataframe tbody tr th:only-of-type {\n",
       "        vertical-align: middle;\n",
       "    }\n",
       "\n",
       "    .dataframe tbody tr th {\n",
       "        vertical-align: top;\n",
       "    }\n",
       "\n",
       "    .dataframe thead th {\n",
       "        text-align: right;\n",
       "    }\n",
       "</style>\n",
       "<table border=\"1\" class=\"dataframe\">\n",
       "  <thead>\n",
       "    <tr style=\"text-align: right;\">\n",
       "      <th></th>\n",
       "      <th>main_indicator</th>\n",
       "      <th>2017</th>\n",
       "    </tr>\n",
       "  </thead>\n",
       "  <tbody>\n",
       "    <tr>\n",
       "      <th>81241</th>\n",
       "      <td>any money in the past year</td>\n",
       "      <td>44.0</td>\n",
       "    </tr>\n",
       "    <tr>\n",
       "      <th>81325</th>\n",
       "      <td>from family or friends</td>\n",
       "      <td>22.0</td>\n",
       "    </tr>\n",
       "    <tr>\n",
       "      <th>81277</th>\n",
       "      <td>from a financial institution</td>\n",
       "      <td>19.0</td>\n",
       "    </tr>\n",
       "    <tr>\n",
       "      <th>81278</th>\n",
       "      <td>from a financial institution or used a credit...</td>\n",
       "      <td>19.0</td>\n",
       "    </tr>\n",
       "    <tr>\n",
       "      <th>81265</th>\n",
       "      <td>for health or medical purposes</td>\n",
       "      <td>7.0</td>\n",
       "    </tr>\n",
       "    <tr>\n",
       "      <th>81301</th>\n",
       "      <td>from a savings club</td>\n",
       "      <td>1.0</td>\n",
       "    </tr>\n",
       "    <tr>\n",
       "      <th>81253</th>\n",
       "      <td>for education or school fees</td>\n",
       "      <td>NaN</td>\n",
       "    </tr>\n",
       "    <tr>\n",
       "      <th>81313</th>\n",
       "      <td>from a store by buying on credit</td>\n",
       "      <td>NaN</td>\n",
       "    </tr>\n",
       "  </tbody>\n",
       "</table>\n",
       "</div>"
      ],
      "text/plain": [
       "                                          main_indicator  2017\n",
       "81241                        any money in the past year   44.0\n",
       "81325                            from family or friends   22.0\n",
       "81277                      from a financial institution   19.0\n",
       "81278   from a financial institution or used a credit...  19.0\n",
       "81265                    for health or medical purposes    7.0\n",
       "81301                               from a savings club    1.0\n",
       "81253                      for education or school fees    NaN\n",
       "81313                  from a store by buying on credit    NaN"
      ]
     },
     "execution_count": 137,
     "metadata": {},
     "output_type": "execute_result"
    }
   ],
   "source": [
    "borrowed_mm = selected.loc[(selected['main_indicator'].str.contains('Borrowed'))&(selected['country_code']=='MMR')]\n",
    "#borrowed_mm['main_indicator'] = borrowed_mm['main_indicator'].str.replace('No account because of','')\n",
    "borrowed_mm['main_indicator'] = borrowed_mm['main_indicator'].str.replace('Borrowed','')\n",
    "borrowed_mm['2017'] = np.round(borrowed_mm['2017'],decimals=0) \n",
    "borrowed_mm[['main_indicator','2017']].sort_values(by=['2017'],ascending=False)"
   ]
  },
  {
   "cell_type": "code",
   "execution_count": 131,
   "id": "de3f2f01",
   "metadata": {
    "ExecuteTime": {
     "end_time": "2021-11-02T12:32:03.444670Z",
     "start_time": "2021-11-02T12:32:03.413074Z"
    }
   },
   "outputs": [
    {
     "data": {
      "text/html": [
       "<div>\n",
       "<style scoped>\n",
       "    .dataframe tbody tr th:only-of-type {\n",
       "        vertical-align: middle;\n",
       "    }\n",
       "\n",
       "    .dataframe tbody tr th {\n",
       "        vertical-align: top;\n",
       "    }\n",
       "\n",
       "    .dataframe thead th {\n",
       "        text-align: right;\n",
       "    }\n",
       "</style>\n",
       "<table border=\"1\" class=\"dataframe\">\n",
       "  <thead>\n",
       "    <tr style=\"text-align: right;\">\n",
       "      <th></th>\n",
       "      <th>main_indicator</th>\n",
       "      <th>2017</th>\n",
       "    </tr>\n",
       "  </thead>\n",
       "  <tbody>\n",
       "    <tr>\n",
       "      <th>81525</th>\n",
       "      <td>insufficient funds</td>\n",
       "      <td>57.0</td>\n",
       "    </tr>\n",
       "    <tr>\n",
       "      <th>81527</th>\n",
       "      <td>lack of necessary documentation</td>\n",
       "      <td>24.0</td>\n",
       "    </tr>\n",
       "    <tr>\n",
       "      <th>81521</th>\n",
       "      <td>financial institutions are too far away</td>\n",
       "      <td>17.0</td>\n",
       "    </tr>\n",
       "    <tr>\n",
       "      <th>81523</th>\n",
       "      <td>financial services are too expensive</td>\n",
       "      <td>7.0</td>\n",
       "    </tr>\n",
       "    <tr>\n",
       "      <th>81535</th>\n",
       "      <td>someone in the family has an account</td>\n",
       "      <td>7.0</td>\n",
       "    </tr>\n",
       "    <tr>\n",
       "      <th>81531</th>\n",
       "      <td>no need for financial services ONLY</td>\n",
       "      <td>5.0</td>\n",
       "    </tr>\n",
       "    <tr>\n",
       "      <th>81533</th>\n",
       "      <td>religious reasons</td>\n",
       "      <td>2.0</td>\n",
       "    </tr>\n",
       "    <tr>\n",
       "      <th>81529</th>\n",
       "      <td>lack of trust in financial institutions</td>\n",
       "      <td>1.0</td>\n",
       "    </tr>\n",
       "  </tbody>\n",
       "</table>\n",
       "</div>"
      ],
      "text/plain": [
       "                                  main_indicator  2017\n",
       "81525                        insufficient funds   57.0\n",
       "81527           lack of necessary documentation   24.0\n",
       "81521   financial institutions are too far away   17.0\n",
       "81523      financial services are too expensive    7.0\n",
       "81535      someone in the family has an account    7.0\n",
       "81531       no need for financial services ONLY    5.0\n",
       "81533                         religious reasons    2.0\n",
       "81529   lack of trust in financial institutions    1.0"
      ]
     },
     "execution_count": 131,
     "metadata": {},
     "output_type": "execute_result"
    }
   ],
   "source": [
    "no_account_mm = selected.loc[(selected['main_indicator'].str.contains('No account'))&(selected['country_code']=='MMR')]\n",
    "no_account_mm['main_indicator'] = no_account_mm['main_indicator'].str.replace('No account because of','')\n",
    "no_account_mm['main_indicator'] = no_account_mm['main_indicator'].str.replace('No account because','')\n",
    "no_account_mm['2017'] = np.round(no_account_mm['2017'],decimals=0) \n",
    "no_account_mm[['main_indicator','2017']].sort_values(by=['2017'],ascending=False)"
   ]
  },
  {
   "cell_type": "code",
   "execution_count": 55,
   "id": "c08607a1",
   "metadata": {
    "ExecuteTime": {
     "end_time": "2021-11-02T08:43:34.275207Z",
     "start_time": "2021-11-02T08:43:33.734438Z"
    }
   },
   "outputs": [],
   "source": []
  },
  {
   "cell_type": "markdown",
   "id": "8d87afd5",
   "metadata": {},
   "source": [
    "# Appendix"
   ]
  },
  {
   "cell_type": "code",
   "execution_count": 60,
   "id": "fa16a578",
   "metadata": {
    "ExecuteTime": {
     "end_time": "2021-11-02T08:45:02.615664Z",
     "start_time": "2021-11-02T08:45:02.544913Z"
    }
   },
   "outputs": [],
   "source": [
    "a.shape()"
   ]
  },
  {
   "cell_type": "code",
   "execution_count": 178,
   "id": "ada68619",
   "metadata": {
    "ExecuteTime": {
     "end_time": "2021-11-03T02:37:40.860720Z",
     "start_time": "2021-11-03T02:37:40.822826Z"
    }
   },
   "outputs": [
    {
     "data": {
      "text/html": [
       "<div>\n",
       "<style scoped>\n",
       "    .dataframe tbody tr th:only-of-type {\n",
       "        vertical-align: middle;\n",
       "    }\n",
       "\n",
       "    .dataframe tbody tr th {\n",
       "        vertical-align: top;\n",
       "    }\n",
       "\n",
       "    .dataframe thead th {\n",
       "        text-align: right;\n",
       "    }\n",
       "</style>\n",
       "<table border=\"1\" class=\"dataframe\">\n",
       "  <thead>\n",
       "    <tr style=\"text-align: right;\">\n",
       "      <th></th>\n",
       "      <th>country_code</th>\n",
       "      <th>2017</th>\n",
       "      <th>short_name</th>\n",
       "      <th>region</th>\n",
       "      <th>income_group</th>\n",
       "      <th>main_indicator</th>\n",
       "    </tr>\n",
       "  </thead>\n",
       "  <tbody>\n",
       "    <tr>\n",
       "      <th>30327</th>\n",
       "      <td>KHM</td>\n",
       "      <td>0.554112</td>\n",
       "      <td>Cambodia</td>\n",
       "      <td>East Asia &amp; Pacific</td>\n",
       "      <td>Lower middle income</td>\n",
       "      <td>Credit card ownership</td>\n",
       "    </tr>\n",
       "    <tr>\n",
       "      <th>30339</th>\n",
       "      <td>KHM</td>\n",
       "      <td>7.194252</td>\n",
       "      <td>Cambodia</td>\n",
       "      <td>East Asia &amp; Pacific</td>\n",
       "      <td>Lower middle income</td>\n",
       "      <td>Debit card ownership</td>\n",
       "    </tr>\n",
       "    <tr>\n",
       "      <th>30352</th>\n",
       "      <td>KHM</td>\n",
       "      <td>17.802168</td>\n",
       "      <td>Cambodia</td>\n",
       "      <td>East Asia &amp; Pacific</td>\n",
       "      <td>Lower middle income</td>\n",
       "      <td>Financial institution account</td>\n",
       "    </tr>\n",
       "    <tr>\n",
       "      <th>30463</th>\n",
       "      <td>KHM</td>\n",
       "      <td>5.659509</td>\n",
       "      <td>Cambodia</td>\n",
       "      <td>East Asia &amp; Pacific</td>\n",
       "      <td>Lower middle income</td>\n",
       "      <td>Mobile money account</td>\n",
       "    </tr>\n",
       "    <tr>\n",
       "      <th>55895</th>\n",
       "      <td>IDN</td>\n",
       "      <td>2.439473</td>\n",
       "      <td>Indonesia</td>\n",
       "      <td>East Asia &amp; Pacific</td>\n",
       "      <td>Lower middle income</td>\n",
       "      <td>Credit card ownership</td>\n",
       "    </tr>\n",
       "  </tbody>\n",
       "</table>\n",
       "</div>"
      ],
      "text/plain": [
       "      country_code       2017 short_name               region  \\\n",
       "30327          KHM   0.554112   Cambodia  East Asia & Pacific   \n",
       "30339          KHM   7.194252   Cambodia  East Asia & Pacific   \n",
       "30352          KHM  17.802168   Cambodia  East Asia & Pacific   \n",
       "30463          KHM   5.659509   Cambodia  East Asia & Pacific   \n",
       "55895          IDN   2.439473  Indonesia  East Asia & Pacific   \n",
       "\n",
       "              income_group                  main_indicator  \n",
       "30327  Lower middle income          Credit card ownership   \n",
       "30339  Lower middle income           Debit card ownership   \n",
       "30352  Lower middle income  Financial institution account   \n",
       "30463  Lower middle income           Mobile money account   \n",
       "55895  Lower middle income          Credit card ownership   "
      ]
     },
     "execution_count": 178,
     "metadata": {},
     "output_type": "execute_result"
    }
   ],
   "source": [
    "sunburst = df.loc[(df['region']=='East Asia & Pacific')]\n",
    "sunburst = sunburst.loc[(sunburst['income_group']=='Lower middle income')]\n",
    "ownership = ['Credit card ownership ','Debit card ownership ','Mobile money account ','Financial institution account ']\n",
    "sunburst = sunburst.loc[sunburst['main_indicator'].isin(ownership)]\n",
    "sunburst = sunburst.drop(columns=['indicator_name']).dropna(subset=['2017'])\n",
    "sunburst.head()"
   ]
  },
  {
   "cell_type": "code",
   "execution_count": 180,
   "id": "76a39f79",
   "metadata": {
    "ExecuteTime": {
     "end_time": "2021-11-03T02:41:42.303382Z",
     "start_time": "2021-11-03T02:41:42.099763Z"
    }
   },
   "outputs": [
    {
     "data": {
      "application/vnd.plotly.v1+json": {
       "config": {
        "plotlyServerURL": "https://plot.ly"
       },
       "data": [
        {
         "branchvalues": "total",
         "domain": {
          "x": [
           0,
           1
          ],
          "y": [
           0,
           1
          ]
         },
         "hovertemplate": "labels=%{label}<br>2017=%{value}<br>parent=%{parent}<br>id=%{id}<extra></extra>",
         "ids": [
          "East Asia & Pacific/Lower middle income/Cambodia/Credit card ownership ",
          "East Asia & Pacific/Lower middle income/Indonesia/Credit card ownership ",
          "East Asia & Pacific/Lower middle income/Lao PDR/Credit card ownership ",
          "East Asia & Pacific/Lower middle income/Mongolia/Credit card ownership ",
          "East Asia & Pacific/Lower middle income/Myanmar/Credit card ownership ",
          "East Asia & Pacific/Lower middle income/Philippines/Credit card ownership ",
          "East Asia & Pacific/Lower middle income/Vietnam/Credit card ownership ",
          "East Asia & Pacific/Lower middle income/Cambodia/Debit card ownership ",
          "East Asia & Pacific/Lower middle income/Indonesia/Debit card ownership ",
          "East Asia & Pacific/Lower middle income/Lao PDR/Debit card ownership ",
          "East Asia & Pacific/Lower middle income/Mongolia/Debit card ownership ",
          "East Asia & Pacific/Lower middle income/Myanmar/Debit card ownership ",
          "East Asia & Pacific/Lower middle income/Philippines/Debit card ownership ",
          "East Asia & Pacific/Lower middle income/Vietnam/Debit card ownership ",
          "East Asia & Pacific/Lower middle income/Cambodia/Financial institution account ",
          "East Asia & Pacific/Lower middle income/Indonesia/Financial institution account ",
          "East Asia & Pacific/Lower middle income/Lao PDR/Financial institution account ",
          "East Asia & Pacific/Lower middle income/Mongolia/Financial institution account ",
          "East Asia & Pacific/Lower middle income/Myanmar/Financial institution account ",
          "East Asia & Pacific/Lower middle income/Philippines/Financial institution account ",
          "East Asia & Pacific/Lower middle income/Vietnam/Financial institution account ",
          "East Asia & Pacific/Lower middle income/Cambodia/Mobile money account ",
          "East Asia & Pacific/Lower middle income/Indonesia/Mobile money account ",
          "East Asia & Pacific/Lower middle income/Mongolia/Mobile money account ",
          "East Asia & Pacific/Lower middle income/Myanmar/Mobile money account ",
          "East Asia & Pacific/Lower middle income/Philippines/Mobile money account ",
          "East Asia & Pacific/Lower middle income/Vietnam/Mobile money account ",
          "East Asia & Pacific/Lower middle income/Cambodia",
          "East Asia & Pacific/Lower middle income/Indonesia",
          "East Asia & Pacific/Lower middle income/Lao PDR",
          "East Asia & Pacific/Lower middle income/Mongolia",
          "East Asia & Pacific/Lower middle income/Myanmar",
          "East Asia & Pacific/Lower middle income/Philippines",
          "East Asia & Pacific/Lower middle income/Vietnam",
          "East Asia & Pacific/Lower middle income",
          "East Asia & Pacific"
         ],
         "labels": [
          "Credit card ownership ",
          "Credit card ownership ",
          "Credit card ownership ",
          "Credit card ownership ",
          "Credit card ownership ",
          "Credit card ownership ",
          "Credit card ownership ",
          "Debit card ownership ",
          "Debit card ownership ",
          "Debit card ownership ",
          "Debit card ownership ",
          "Debit card ownership ",
          "Debit card ownership ",
          "Debit card ownership ",
          "Financial institution account ",
          "Financial institution account ",
          "Financial institution account ",
          "Financial institution account ",
          "Financial institution account ",
          "Financial institution account ",
          "Financial institution account ",
          "Mobile money account ",
          "Mobile money account ",
          "Mobile money account ",
          "Mobile money account ",
          "Mobile money account ",
          "Mobile money account ",
          "Cambodia",
          "Indonesia",
          "Lao PDR",
          "Mongolia",
          "Myanmar",
          "Philippines",
          "Vietnam",
          "Lower middle income",
          "East Asia & Pacific"
         ],
         "name": "",
         "parents": [
          "East Asia & Pacific/Lower middle income/Cambodia",
          "East Asia & Pacific/Lower middle income/Indonesia",
          "East Asia & Pacific/Lower middle income/Lao PDR",
          "East Asia & Pacific/Lower middle income/Mongolia",
          "East Asia & Pacific/Lower middle income/Myanmar",
          "East Asia & Pacific/Lower middle income/Philippines",
          "East Asia & Pacific/Lower middle income/Vietnam",
          "East Asia & Pacific/Lower middle income/Cambodia",
          "East Asia & Pacific/Lower middle income/Indonesia",
          "East Asia & Pacific/Lower middle income/Lao PDR",
          "East Asia & Pacific/Lower middle income/Mongolia",
          "East Asia & Pacific/Lower middle income/Myanmar",
          "East Asia & Pacific/Lower middle income/Philippines",
          "East Asia & Pacific/Lower middle income/Vietnam",
          "East Asia & Pacific/Lower middle income/Cambodia",
          "East Asia & Pacific/Lower middle income/Indonesia",
          "East Asia & Pacific/Lower middle income/Lao PDR",
          "East Asia & Pacific/Lower middle income/Mongolia",
          "East Asia & Pacific/Lower middle income/Myanmar",
          "East Asia & Pacific/Lower middle income/Philippines",
          "East Asia & Pacific/Lower middle income/Vietnam",
          "East Asia & Pacific/Lower middle income/Cambodia",
          "East Asia & Pacific/Lower middle income/Indonesia",
          "East Asia & Pacific/Lower middle income/Mongolia",
          "East Asia & Pacific/Lower middle income/Myanmar",
          "East Asia & Pacific/Lower middle income/Philippines",
          "East Asia & Pacific/Lower middle income/Vietnam",
          "East Asia & Pacific/Lower middle income",
          "East Asia & Pacific/Lower middle income",
          "East Asia & Pacific/Lower middle income",
          "East Asia & Pacific/Lower middle income",
          "East Asia & Pacific/Lower middle income",
          "East Asia & Pacific/Lower middle income",
          "East Asia & Pacific/Lower middle income",
          "East Asia & Pacific",
          ""
         ],
         "type": "sunburst",
         "values": [
          0.554112493991852,
          2.4394726753234903,
          0.5506412386894229,
          3.2081036567688,
          0.0560868754982948,
          1.93898904323578,
          4.12033891677856,
          7.194251537323001,
          30.811098098754897,
          12.6508874893188,
          75.7024307250977,
          4.880358695983889,
          21.011304855346697,
          26.7381610870361,
          17.8021678924561,
          48.392059326171896,
          29.05641746521,
          92.9711685180664,
          25.609245300293,
          31.797071456909197,
          30.0235424041748,
          5.65950870513916,
          3.12391567230225,
          21.8971481323242,
          0.6904999017715451,
          4.52129888534546,
          3.49950075149536,
          31.210040628910114,
          84.76654577255253,
          42.257946193218224,
          193.7788510322571,
          31.23619077354673,
          59.26866424083713,
          64.38154315948482,
          506.89978180080664,
          506.89978180080664
         ]
        }
       ],
       "layout": {
        "legend": {
         "tracegroupgap": 0
        },
        "margin": {
         "t": 60
        },
        "template": {
         "data": {
          "bar": [
           {
            "error_x": {
             "color": "#2a3f5f"
            },
            "error_y": {
             "color": "#2a3f5f"
            },
            "marker": {
             "line": {
              "color": "#E5ECF6",
              "width": 0.5
             }
            },
            "type": "bar"
           }
          ],
          "barpolar": [
           {
            "marker": {
             "line": {
              "color": "#E5ECF6",
              "width": 0.5
             }
            },
            "type": "barpolar"
           }
          ],
          "carpet": [
           {
            "aaxis": {
             "endlinecolor": "#2a3f5f",
             "gridcolor": "white",
             "linecolor": "white",
             "minorgridcolor": "white",
             "startlinecolor": "#2a3f5f"
            },
            "baxis": {
             "endlinecolor": "#2a3f5f",
             "gridcolor": "white",
             "linecolor": "white",
             "minorgridcolor": "white",
             "startlinecolor": "#2a3f5f"
            },
            "type": "carpet"
           }
          ],
          "choropleth": [
           {
            "colorbar": {
             "outlinewidth": 0,
             "ticks": ""
            },
            "type": "choropleth"
           }
          ],
          "contour": [
           {
            "colorbar": {
             "outlinewidth": 0,
             "ticks": ""
            },
            "colorscale": [
             [
              0,
              "#0d0887"
             ],
             [
              0.1111111111111111,
              "#46039f"
             ],
             [
              0.2222222222222222,
              "#7201a8"
             ],
             [
              0.3333333333333333,
              "#9c179e"
             ],
             [
              0.4444444444444444,
              "#bd3786"
             ],
             [
              0.5555555555555556,
              "#d8576b"
             ],
             [
              0.6666666666666666,
              "#ed7953"
             ],
             [
              0.7777777777777778,
              "#fb9f3a"
             ],
             [
              0.8888888888888888,
              "#fdca26"
             ],
             [
              1,
              "#f0f921"
             ]
            ],
            "type": "contour"
           }
          ],
          "contourcarpet": [
           {
            "colorbar": {
             "outlinewidth": 0,
             "ticks": ""
            },
            "type": "contourcarpet"
           }
          ],
          "heatmap": [
           {
            "colorbar": {
             "outlinewidth": 0,
             "ticks": ""
            },
            "colorscale": [
             [
              0,
              "#0d0887"
             ],
             [
              0.1111111111111111,
              "#46039f"
             ],
             [
              0.2222222222222222,
              "#7201a8"
             ],
             [
              0.3333333333333333,
              "#9c179e"
             ],
             [
              0.4444444444444444,
              "#bd3786"
             ],
             [
              0.5555555555555556,
              "#d8576b"
             ],
             [
              0.6666666666666666,
              "#ed7953"
             ],
             [
              0.7777777777777778,
              "#fb9f3a"
             ],
             [
              0.8888888888888888,
              "#fdca26"
             ],
             [
              1,
              "#f0f921"
             ]
            ],
            "type": "heatmap"
           }
          ],
          "heatmapgl": [
           {
            "colorbar": {
             "outlinewidth": 0,
             "ticks": ""
            },
            "colorscale": [
             [
              0,
              "#0d0887"
             ],
             [
              0.1111111111111111,
              "#46039f"
             ],
             [
              0.2222222222222222,
              "#7201a8"
             ],
             [
              0.3333333333333333,
              "#9c179e"
             ],
             [
              0.4444444444444444,
              "#bd3786"
             ],
             [
              0.5555555555555556,
              "#d8576b"
             ],
             [
              0.6666666666666666,
              "#ed7953"
             ],
             [
              0.7777777777777778,
              "#fb9f3a"
             ],
             [
              0.8888888888888888,
              "#fdca26"
             ],
             [
              1,
              "#f0f921"
             ]
            ],
            "type": "heatmapgl"
           }
          ],
          "histogram": [
           {
            "marker": {
             "colorbar": {
              "outlinewidth": 0,
              "ticks": ""
             }
            },
            "type": "histogram"
           }
          ],
          "histogram2d": [
           {
            "colorbar": {
             "outlinewidth": 0,
             "ticks": ""
            },
            "colorscale": [
             [
              0,
              "#0d0887"
             ],
             [
              0.1111111111111111,
              "#46039f"
             ],
             [
              0.2222222222222222,
              "#7201a8"
             ],
             [
              0.3333333333333333,
              "#9c179e"
             ],
             [
              0.4444444444444444,
              "#bd3786"
             ],
             [
              0.5555555555555556,
              "#d8576b"
             ],
             [
              0.6666666666666666,
              "#ed7953"
             ],
             [
              0.7777777777777778,
              "#fb9f3a"
             ],
             [
              0.8888888888888888,
              "#fdca26"
             ],
             [
              1,
              "#f0f921"
             ]
            ],
            "type": "histogram2d"
           }
          ],
          "histogram2dcontour": [
           {
            "colorbar": {
             "outlinewidth": 0,
             "ticks": ""
            },
            "colorscale": [
             [
              0,
              "#0d0887"
             ],
             [
              0.1111111111111111,
              "#46039f"
             ],
             [
              0.2222222222222222,
              "#7201a8"
             ],
             [
              0.3333333333333333,
              "#9c179e"
             ],
             [
              0.4444444444444444,
              "#bd3786"
             ],
             [
              0.5555555555555556,
              "#d8576b"
             ],
             [
              0.6666666666666666,
              "#ed7953"
             ],
             [
              0.7777777777777778,
              "#fb9f3a"
             ],
             [
              0.8888888888888888,
              "#fdca26"
             ],
             [
              1,
              "#f0f921"
             ]
            ],
            "type": "histogram2dcontour"
           }
          ],
          "mesh3d": [
           {
            "colorbar": {
             "outlinewidth": 0,
             "ticks": ""
            },
            "type": "mesh3d"
           }
          ],
          "parcoords": [
           {
            "line": {
             "colorbar": {
              "outlinewidth": 0,
              "ticks": ""
             }
            },
            "type": "parcoords"
           }
          ],
          "pie": [
           {
            "automargin": true,
            "type": "pie"
           }
          ],
          "scatter": [
           {
            "marker": {
             "colorbar": {
              "outlinewidth": 0,
              "ticks": ""
             }
            },
            "type": "scatter"
           }
          ],
          "scatter3d": [
           {
            "line": {
             "colorbar": {
              "outlinewidth": 0,
              "ticks": ""
             }
            },
            "marker": {
             "colorbar": {
              "outlinewidth": 0,
              "ticks": ""
             }
            },
            "type": "scatter3d"
           }
          ],
          "scattercarpet": [
           {
            "marker": {
             "colorbar": {
              "outlinewidth": 0,
              "ticks": ""
             }
            },
            "type": "scattercarpet"
           }
          ],
          "scattergeo": [
           {
            "marker": {
             "colorbar": {
              "outlinewidth": 0,
              "ticks": ""
             }
            },
            "type": "scattergeo"
           }
          ],
          "scattergl": [
           {
            "marker": {
             "colorbar": {
              "outlinewidth": 0,
              "ticks": ""
             }
            },
            "type": "scattergl"
           }
          ],
          "scattermapbox": [
           {
            "marker": {
             "colorbar": {
              "outlinewidth": 0,
              "ticks": ""
             }
            },
            "type": "scattermapbox"
           }
          ],
          "scatterpolar": [
           {
            "marker": {
             "colorbar": {
              "outlinewidth": 0,
              "ticks": ""
             }
            },
            "type": "scatterpolar"
           }
          ],
          "scatterpolargl": [
           {
            "marker": {
             "colorbar": {
              "outlinewidth": 0,
              "ticks": ""
             }
            },
            "type": "scatterpolargl"
           }
          ],
          "scatterternary": [
           {
            "marker": {
             "colorbar": {
              "outlinewidth": 0,
              "ticks": ""
             }
            },
            "type": "scatterternary"
           }
          ],
          "surface": [
           {
            "colorbar": {
             "outlinewidth": 0,
             "ticks": ""
            },
            "colorscale": [
             [
              0,
              "#0d0887"
             ],
             [
              0.1111111111111111,
              "#46039f"
             ],
             [
              0.2222222222222222,
              "#7201a8"
             ],
             [
              0.3333333333333333,
              "#9c179e"
             ],
             [
              0.4444444444444444,
              "#bd3786"
             ],
             [
              0.5555555555555556,
              "#d8576b"
             ],
             [
              0.6666666666666666,
              "#ed7953"
             ],
             [
              0.7777777777777778,
              "#fb9f3a"
             ],
             [
              0.8888888888888888,
              "#fdca26"
             ],
             [
              1,
              "#f0f921"
             ]
            ],
            "type": "surface"
           }
          ],
          "table": [
           {
            "cells": {
             "fill": {
              "color": "#EBF0F8"
             },
             "line": {
              "color": "white"
             }
            },
            "header": {
             "fill": {
              "color": "#C8D4E3"
             },
             "line": {
              "color": "white"
             }
            },
            "type": "table"
           }
          ]
         },
         "layout": {
          "annotationdefaults": {
           "arrowcolor": "#2a3f5f",
           "arrowhead": 0,
           "arrowwidth": 1
          },
          "coloraxis": {
           "colorbar": {
            "outlinewidth": 0,
            "ticks": ""
           }
          },
          "colorscale": {
           "diverging": [
            [
             0,
             "#8e0152"
            ],
            [
             0.1,
             "#c51b7d"
            ],
            [
             0.2,
             "#de77ae"
            ],
            [
             0.3,
             "#f1b6da"
            ],
            [
             0.4,
             "#fde0ef"
            ],
            [
             0.5,
             "#f7f7f7"
            ],
            [
             0.6,
             "#e6f5d0"
            ],
            [
             0.7,
             "#b8e186"
            ],
            [
             0.8,
             "#7fbc41"
            ],
            [
             0.9,
             "#4d9221"
            ],
            [
             1,
             "#276419"
            ]
           ],
           "sequential": [
            [
             0,
             "#0d0887"
            ],
            [
             0.1111111111111111,
             "#46039f"
            ],
            [
             0.2222222222222222,
             "#7201a8"
            ],
            [
             0.3333333333333333,
             "#9c179e"
            ],
            [
             0.4444444444444444,
             "#bd3786"
            ],
            [
             0.5555555555555556,
             "#d8576b"
            ],
            [
             0.6666666666666666,
             "#ed7953"
            ],
            [
             0.7777777777777778,
             "#fb9f3a"
            ],
            [
             0.8888888888888888,
             "#fdca26"
            ],
            [
             1,
             "#f0f921"
            ]
           ],
           "sequentialminus": [
            [
             0,
             "#0d0887"
            ],
            [
             0.1111111111111111,
             "#46039f"
            ],
            [
             0.2222222222222222,
             "#7201a8"
            ],
            [
             0.3333333333333333,
             "#9c179e"
            ],
            [
             0.4444444444444444,
             "#bd3786"
            ],
            [
             0.5555555555555556,
             "#d8576b"
            ],
            [
             0.6666666666666666,
             "#ed7953"
            ],
            [
             0.7777777777777778,
             "#fb9f3a"
            ],
            [
             0.8888888888888888,
             "#fdca26"
            ],
            [
             1,
             "#f0f921"
            ]
           ]
          },
          "colorway": [
           "#636efa",
           "#EF553B",
           "#00cc96",
           "#ab63fa",
           "#FFA15A",
           "#19d3f3",
           "#FF6692",
           "#B6E880",
           "#FF97FF",
           "#FECB52"
          ],
          "font": {
           "color": "#2a3f5f"
          },
          "geo": {
           "bgcolor": "white",
           "lakecolor": "white",
           "landcolor": "#E5ECF6",
           "showlakes": true,
           "showland": true,
           "subunitcolor": "white"
          },
          "hoverlabel": {
           "align": "left"
          },
          "hovermode": "closest",
          "mapbox": {
           "style": "light"
          },
          "paper_bgcolor": "white",
          "plot_bgcolor": "#E5ECF6",
          "polar": {
           "angularaxis": {
            "gridcolor": "white",
            "linecolor": "white",
            "ticks": ""
           },
           "bgcolor": "#E5ECF6",
           "radialaxis": {
            "gridcolor": "white",
            "linecolor": "white",
            "ticks": ""
           }
          },
          "scene": {
           "xaxis": {
            "backgroundcolor": "#E5ECF6",
            "gridcolor": "white",
            "gridwidth": 2,
            "linecolor": "white",
            "showbackground": true,
            "ticks": "",
            "zerolinecolor": "white"
           },
           "yaxis": {
            "backgroundcolor": "#E5ECF6",
            "gridcolor": "white",
            "gridwidth": 2,
            "linecolor": "white",
            "showbackground": true,
            "ticks": "",
            "zerolinecolor": "white"
           },
           "zaxis": {
            "backgroundcolor": "#E5ECF6",
            "gridcolor": "white",
            "gridwidth": 2,
            "linecolor": "white",
            "showbackground": true,
            "ticks": "",
            "zerolinecolor": "white"
           }
          },
          "shapedefaults": {
           "line": {
            "color": "#2a3f5f"
           }
          },
          "ternary": {
           "aaxis": {
            "gridcolor": "white",
            "linecolor": "white",
            "ticks": ""
           },
           "baxis": {
            "gridcolor": "white",
            "linecolor": "white",
            "ticks": ""
           },
           "bgcolor": "#E5ECF6",
           "caxis": {
            "gridcolor": "white",
            "linecolor": "white",
            "ticks": ""
           }
          },
          "title": {
           "x": 0.05
          },
          "xaxis": {
           "automargin": true,
           "gridcolor": "white",
           "linecolor": "white",
           "ticks": "",
           "title": {
            "standoff": 15
           },
           "zerolinecolor": "white",
           "zerolinewidth": 2
          },
          "yaxis": {
           "automargin": true,
           "gridcolor": "white",
           "linecolor": "white",
           "ticks": "",
           "title": {
            "standoff": 15
           },
           "zerolinecolor": "white",
           "zerolinewidth": 2
          }
         }
        }
       }
      },
      "text/html": [
       "<div>                            <div id=\"0a4ebdb1-e997-4182-8f3e-a4ed5afd987e\" class=\"plotly-graph-div\" style=\"height:525px; width:100%;\"></div>            <script type=\"text/javascript\">                require([\"plotly\"], function(Plotly) {                    window.PLOTLYENV=window.PLOTLYENV || {};                                    if (document.getElementById(\"0a4ebdb1-e997-4182-8f3e-a4ed5afd987e\")) {                    Plotly.newPlot(                        \"0a4ebdb1-e997-4182-8f3e-a4ed5afd987e\",                        [{\"branchvalues\": \"total\", \"domain\": {\"x\": [0.0, 1.0], \"y\": [0.0, 1.0]}, \"hovertemplate\": \"labels=%{label}<br>2017=%{value}<br>parent=%{parent}<br>id=%{id}<extra></extra>\", \"ids\": [\"East Asia & Pacific/Lower middle income/Cambodia/Credit card ownership \", \"East Asia & Pacific/Lower middle income/Indonesia/Credit card ownership \", \"East Asia & Pacific/Lower middle income/Lao PDR/Credit card ownership \", \"East Asia & Pacific/Lower middle income/Mongolia/Credit card ownership \", \"East Asia & Pacific/Lower middle income/Myanmar/Credit card ownership \", \"East Asia & Pacific/Lower middle income/Philippines/Credit card ownership \", \"East Asia & Pacific/Lower middle income/Vietnam/Credit card ownership \", \"East Asia & Pacific/Lower middle income/Cambodia/Debit card ownership \", \"East Asia & Pacific/Lower middle income/Indonesia/Debit card ownership \", \"East Asia & Pacific/Lower middle income/Lao PDR/Debit card ownership \", \"East Asia & Pacific/Lower middle income/Mongolia/Debit card ownership \", \"East Asia & Pacific/Lower middle income/Myanmar/Debit card ownership \", \"East Asia & Pacific/Lower middle income/Philippines/Debit card ownership \", \"East Asia & Pacific/Lower middle income/Vietnam/Debit card ownership \", \"East Asia & Pacific/Lower middle income/Cambodia/Financial institution account \", \"East Asia & Pacific/Lower middle income/Indonesia/Financial institution account \", \"East Asia & Pacific/Lower middle income/Lao PDR/Financial institution account \", \"East Asia & Pacific/Lower middle income/Mongolia/Financial institution account \", \"East Asia & Pacific/Lower middle income/Myanmar/Financial institution account \", \"East Asia & Pacific/Lower middle income/Philippines/Financial institution account \", \"East Asia & Pacific/Lower middle income/Vietnam/Financial institution account \", \"East Asia & Pacific/Lower middle income/Cambodia/Mobile money account \", \"East Asia & Pacific/Lower middle income/Indonesia/Mobile money account \", \"East Asia & Pacific/Lower middle income/Mongolia/Mobile money account \", \"East Asia & Pacific/Lower middle income/Myanmar/Mobile money account \", \"East Asia & Pacific/Lower middle income/Philippines/Mobile money account \", \"East Asia & Pacific/Lower middle income/Vietnam/Mobile money account \", \"East Asia & Pacific/Lower middle income/Cambodia\", \"East Asia & Pacific/Lower middle income/Indonesia\", \"East Asia & Pacific/Lower middle income/Lao PDR\", \"East Asia & Pacific/Lower middle income/Mongolia\", \"East Asia & Pacific/Lower middle income/Myanmar\", \"East Asia & Pacific/Lower middle income/Philippines\", \"East Asia & Pacific/Lower middle income/Vietnam\", \"East Asia & Pacific/Lower middle income\", \"East Asia & Pacific\"], \"labels\": [\"Credit card ownership \", \"Credit card ownership \", \"Credit card ownership \", \"Credit card ownership \", \"Credit card ownership \", \"Credit card ownership \", \"Credit card ownership \", \"Debit card ownership \", \"Debit card ownership \", \"Debit card ownership \", \"Debit card ownership \", \"Debit card ownership \", \"Debit card ownership \", \"Debit card ownership \", \"Financial institution account \", \"Financial institution account \", \"Financial institution account \", \"Financial institution account \", \"Financial institution account \", \"Financial institution account \", \"Financial institution account \", \"Mobile money account \", \"Mobile money account \", \"Mobile money account \", \"Mobile money account \", \"Mobile money account \", \"Mobile money account \", \"Cambodia\", \"Indonesia\", \"Lao PDR\", \"Mongolia\", \"Myanmar\", \"Philippines\", \"Vietnam\", \"Lower middle income\", \"East Asia & Pacific\"], \"name\": \"\", \"parents\": [\"East Asia & Pacific/Lower middle income/Cambodia\", \"East Asia & Pacific/Lower middle income/Indonesia\", \"East Asia & Pacific/Lower middle income/Lao PDR\", \"East Asia & Pacific/Lower middle income/Mongolia\", \"East Asia & Pacific/Lower middle income/Myanmar\", \"East Asia & Pacific/Lower middle income/Philippines\", \"East Asia & Pacific/Lower middle income/Vietnam\", \"East Asia & Pacific/Lower middle income/Cambodia\", \"East Asia & Pacific/Lower middle income/Indonesia\", \"East Asia & Pacific/Lower middle income/Lao PDR\", \"East Asia & Pacific/Lower middle income/Mongolia\", \"East Asia & Pacific/Lower middle income/Myanmar\", \"East Asia & Pacific/Lower middle income/Philippines\", \"East Asia & Pacific/Lower middle income/Vietnam\", \"East Asia & Pacific/Lower middle income/Cambodia\", \"East Asia & Pacific/Lower middle income/Indonesia\", \"East Asia & Pacific/Lower middle income/Lao PDR\", \"East Asia & Pacific/Lower middle income/Mongolia\", \"East Asia & Pacific/Lower middle income/Myanmar\", \"East Asia & Pacific/Lower middle income/Philippines\", \"East Asia & Pacific/Lower middle income/Vietnam\", \"East Asia & Pacific/Lower middle income/Cambodia\", \"East Asia & Pacific/Lower middle income/Indonesia\", \"East Asia & Pacific/Lower middle income/Mongolia\", \"East Asia & Pacific/Lower middle income/Myanmar\", \"East Asia & Pacific/Lower middle income/Philippines\", \"East Asia & Pacific/Lower middle income/Vietnam\", \"East Asia & Pacific/Lower middle income\", \"East Asia & Pacific/Lower middle income\", \"East Asia & Pacific/Lower middle income\", \"East Asia & Pacific/Lower middle income\", \"East Asia & Pacific/Lower middle income\", \"East Asia & Pacific/Lower middle income\", \"East Asia & Pacific/Lower middle income\", \"East Asia & Pacific\", \"\"], \"type\": \"sunburst\", \"values\": [0.554112493991852, 2.4394726753234903, 0.5506412386894229, 3.2081036567688, 0.0560868754982948, 1.93898904323578, 4.12033891677856, 7.194251537323001, 30.811098098754897, 12.6508874893188, 75.7024307250977, 4.880358695983889, 21.011304855346697, 26.7381610870361, 17.8021678924561, 48.392059326171896, 29.05641746521, 92.9711685180664, 25.609245300293, 31.797071456909197, 30.0235424041748, 5.65950870513916, 3.12391567230225, 21.8971481323242, 0.6904999017715451, 4.52129888534546, 3.49950075149536, 31.210040628910114, 84.76654577255253, 42.257946193218224, 193.7788510322571, 31.23619077354673, 59.26866424083713, 64.38154315948482, 506.89978180080664, 506.89978180080664]}],                        {\"legend\": {\"tracegroupgap\": 0}, \"margin\": {\"t\": 60}, \"template\": {\"data\": {\"bar\": [{\"error_x\": {\"color\": \"#2a3f5f\"}, \"error_y\": {\"color\": \"#2a3f5f\"}, \"marker\": {\"line\": {\"color\": \"#E5ECF6\", \"width\": 0.5}}, \"type\": \"bar\"}], \"barpolar\": [{\"marker\": {\"line\": {\"color\": \"#E5ECF6\", \"width\": 0.5}}, \"type\": \"barpolar\"}], \"carpet\": [{\"aaxis\": {\"endlinecolor\": \"#2a3f5f\", \"gridcolor\": \"white\", \"linecolor\": \"white\", \"minorgridcolor\": \"white\", \"startlinecolor\": \"#2a3f5f\"}, \"baxis\": {\"endlinecolor\": \"#2a3f5f\", \"gridcolor\": \"white\", \"linecolor\": \"white\", \"minorgridcolor\": \"white\", \"startlinecolor\": \"#2a3f5f\"}, \"type\": \"carpet\"}], \"choropleth\": [{\"colorbar\": {\"outlinewidth\": 0, \"ticks\": \"\"}, \"type\": \"choropleth\"}], \"contour\": [{\"colorbar\": {\"outlinewidth\": 0, \"ticks\": \"\"}, \"colorscale\": [[0.0, \"#0d0887\"], [0.1111111111111111, \"#46039f\"], [0.2222222222222222, \"#7201a8\"], [0.3333333333333333, \"#9c179e\"], [0.4444444444444444, \"#bd3786\"], [0.5555555555555556, \"#d8576b\"], [0.6666666666666666, \"#ed7953\"], [0.7777777777777778, \"#fb9f3a\"], [0.8888888888888888, \"#fdca26\"], [1.0, \"#f0f921\"]], \"type\": \"contour\"}], \"contourcarpet\": [{\"colorbar\": {\"outlinewidth\": 0, \"ticks\": \"\"}, \"type\": \"contourcarpet\"}], \"heatmap\": [{\"colorbar\": {\"outlinewidth\": 0, \"ticks\": \"\"}, \"colorscale\": [[0.0, \"#0d0887\"], [0.1111111111111111, \"#46039f\"], [0.2222222222222222, \"#7201a8\"], [0.3333333333333333, \"#9c179e\"], [0.4444444444444444, \"#bd3786\"], [0.5555555555555556, \"#d8576b\"], [0.6666666666666666, \"#ed7953\"], [0.7777777777777778, \"#fb9f3a\"], [0.8888888888888888, \"#fdca26\"], [1.0, \"#f0f921\"]], \"type\": \"heatmap\"}], \"heatmapgl\": [{\"colorbar\": {\"outlinewidth\": 0, \"ticks\": \"\"}, \"colorscale\": [[0.0, \"#0d0887\"], [0.1111111111111111, \"#46039f\"], [0.2222222222222222, \"#7201a8\"], [0.3333333333333333, \"#9c179e\"], [0.4444444444444444, \"#bd3786\"], [0.5555555555555556, \"#d8576b\"], [0.6666666666666666, \"#ed7953\"], [0.7777777777777778, \"#fb9f3a\"], [0.8888888888888888, \"#fdca26\"], [1.0, \"#f0f921\"]], \"type\": \"heatmapgl\"}], \"histogram\": [{\"marker\": {\"colorbar\": {\"outlinewidth\": 0, \"ticks\": \"\"}}, \"type\": \"histogram\"}], \"histogram2d\": [{\"colorbar\": {\"outlinewidth\": 0, \"ticks\": \"\"}, \"colorscale\": [[0.0, \"#0d0887\"], [0.1111111111111111, \"#46039f\"], [0.2222222222222222, \"#7201a8\"], [0.3333333333333333, \"#9c179e\"], [0.4444444444444444, \"#bd3786\"], [0.5555555555555556, \"#d8576b\"], [0.6666666666666666, \"#ed7953\"], [0.7777777777777778, \"#fb9f3a\"], [0.8888888888888888, \"#fdca26\"], [1.0, \"#f0f921\"]], \"type\": \"histogram2d\"}], \"histogram2dcontour\": [{\"colorbar\": {\"outlinewidth\": 0, \"ticks\": \"\"}, \"colorscale\": [[0.0, \"#0d0887\"], [0.1111111111111111, \"#46039f\"], [0.2222222222222222, \"#7201a8\"], [0.3333333333333333, \"#9c179e\"], [0.4444444444444444, \"#bd3786\"], [0.5555555555555556, \"#d8576b\"], [0.6666666666666666, \"#ed7953\"], [0.7777777777777778, \"#fb9f3a\"], [0.8888888888888888, \"#fdca26\"], [1.0, \"#f0f921\"]], \"type\": \"histogram2dcontour\"}], \"mesh3d\": [{\"colorbar\": {\"outlinewidth\": 0, \"ticks\": \"\"}, \"type\": \"mesh3d\"}], \"parcoords\": [{\"line\": {\"colorbar\": {\"outlinewidth\": 0, \"ticks\": \"\"}}, \"type\": \"parcoords\"}], \"pie\": [{\"automargin\": true, \"type\": \"pie\"}], \"scatter\": [{\"marker\": {\"colorbar\": {\"outlinewidth\": 0, \"ticks\": \"\"}}, \"type\": \"scatter\"}], \"scatter3d\": [{\"line\": {\"colorbar\": {\"outlinewidth\": 0, \"ticks\": \"\"}}, \"marker\": {\"colorbar\": {\"outlinewidth\": 0, \"ticks\": \"\"}}, \"type\": \"scatter3d\"}], \"scattercarpet\": [{\"marker\": {\"colorbar\": {\"outlinewidth\": 0, \"ticks\": \"\"}}, \"type\": \"scattercarpet\"}], \"scattergeo\": [{\"marker\": {\"colorbar\": {\"outlinewidth\": 0, \"ticks\": \"\"}}, \"type\": \"scattergeo\"}], \"scattergl\": [{\"marker\": {\"colorbar\": {\"outlinewidth\": 0, \"ticks\": \"\"}}, \"type\": \"scattergl\"}], \"scattermapbox\": [{\"marker\": {\"colorbar\": {\"outlinewidth\": 0, \"ticks\": \"\"}}, \"type\": \"scattermapbox\"}], \"scatterpolar\": [{\"marker\": {\"colorbar\": {\"outlinewidth\": 0, \"ticks\": \"\"}}, \"type\": \"scatterpolar\"}], \"scatterpolargl\": [{\"marker\": {\"colorbar\": {\"outlinewidth\": 0, \"ticks\": \"\"}}, \"type\": \"scatterpolargl\"}], \"scatterternary\": [{\"marker\": {\"colorbar\": {\"outlinewidth\": 0, \"ticks\": \"\"}}, \"type\": \"scatterternary\"}], \"surface\": [{\"colorbar\": {\"outlinewidth\": 0, \"ticks\": \"\"}, \"colorscale\": [[0.0, \"#0d0887\"], [0.1111111111111111, \"#46039f\"], [0.2222222222222222, \"#7201a8\"], [0.3333333333333333, \"#9c179e\"], [0.4444444444444444, \"#bd3786\"], [0.5555555555555556, \"#d8576b\"], [0.6666666666666666, \"#ed7953\"], [0.7777777777777778, \"#fb9f3a\"], [0.8888888888888888, \"#fdca26\"], [1.0, \"#f0f921\"]], \"type\": \"surface\"}], \"table\": [{\"cells\": {\"fill\": {\"color\": \"#EBF0F8\"}, \"line\": {\"color\": \"white\"}}, \"header\": {\"fill\": {\"color\": \"#C8D4E3\"}, \"line\": {\"color\": \"white\"}}, \"type\": \"table\"}]}, \"layout\": {\"annotationdefaults\": {\"arrowcolor\": \"#2a3f5f\", \"arrowhead\": 0, \"arrowwidth\": 1}, \"coloraxis\": {\"colorbar\": {\"outlinewidth\": 0, \"ticks\": \"\"}}, \"colorscale\": {\"diverging\": [[0, \"#8e0152\"], [0.1, \"#c51b7d\"], [0.2, \"#de77ae\"], [0.3, \"#f1b6da\"], [0.4, \"#fde0ef\"], [0.5, \"#f7f7f7\"], [0.6, \"#e6f5d0\"], [0.7, \"#b8e186\"], [0.8, \"#7fbc41\"], [0.9, \"#4d9221\"], [1, \"#276419\"]], \"sequential\": [[0.0, \"#0d0887\"], [0.1111111111111111, \"#46039f\"], [0.2222222222222222, \"#7201a8\"], [0.3333333333333333, \"#9c179e\"], [0.4444444444444444, \"#bd3786\"], [0.5555555555555556, \"#d8576b\"], [0.6666666666666666, \"#ed7953\"], [0.7777777777777778, \"#fb9f3a\"], [0.8888888888888888, \"#fdca26\"], [1.0, \"#f0f921\"]], \"sequentialminus\": [[0.0, \"#0d0887\"], [0.1111111111111111, \"#46039f\"], [0.2222222222222222, \"#7201a8\"], [0.3333333333333333, \"#9c179e\"], [0.4444444444444444, \"#bd3786\"], [0.5555555555555556, \"#d8576b\"], [0.6666666666666666, \"#ed7953\"], [0.7777777777777778, \"#fb9f3a\"], [0.8888888888888888, \"#fdca26\"], [1.0, \"#f0f921\"]]}, \"colorway\": [\"#636efa\", \"#EF553B\", \"#00cc96\", \"#ab63fa\", \"#FFA15A\", \"#19d3f3\", \"#FF6692\", \"#B6E880\", \"#FF97FF\", \"#FECB52\"], \"font\": {\"color\": \"#2a3f5f\"}, \"geo\": {\"bgcolor\": \"white\", \"lakecolor\": \"white\", \"landcolor\": \"#E5ECF6\", \"showlakes\": true, \"showland\": true, \"subunitcolor\": \"white\"}, \"hoverlabel\": {\"align\": \"left\"}, \"hovermode\": \"closest\", \"mapbox\": {\"style\": \"light\"}, \"paper_bgcolor\": \"white\", \"plot_bgcolor\": \"#E5ECF6\", \"polar\": {\"angularaxis\": {\"gridcolor\": \"white\", \"linecolor\": \"white\", \"ticks\": \"\"}, \"bgcolor\": \"#E5ECF6\", \"radialaxis\": {\"gridcolor\": \"white\", \"linecolor\": \"white\", \"ticks\": \"\"}}, \"scene\": {\"xaxis\": {\"backgroundcolor\": \"#E5ECF6\", \"gridcolor\": \"white\", \"gridwidth\": 2, \"linecolor\": \"white\", \"showbackground\": true, \"ticks\": \"\", \"zerolinecolor\": \"white\"}, \"yaxis\": {\"backgroundcolor\": \"#E5ECF6\", \"gridcolor\": \"white\", \"gridwidth\": 2, \"linecolor\": \"white\", \"showbackground\": true, \"ticks\": \"\", \"zerolinecolor\": \"white\"}, \"zaxis\": {\"backgroundcolor\": \"#E5ECF6\", \"gridcolor\": \"white\", \"gridwidth\": 2, \"linecolor\": \"white\", \"showbackground\": true, \"ticks\": \"\", \"zerolinecolor\": \"white\"}}, \"shapedefaults\": {\"line\": {\"color\": \"#2a3f5f\"}}, \"ternary\": {\"aaxis\": {\"gridcolor\": \"white\", \"linecolor\": \"white\", \"ticks\": \"\"}, \"baxis\": {\"gridcolor\": \"white\", \"linecolor\": \"white\", \"ticks\": \"\"}, \"bgcolor\": \"#E5ECF6\", \"caxis\": {\"gridcolor\": \"white\", \"linecolor\": \"white\", \"ticks\": \"\"}}, \"title\": {\"x\": 0.05}, \"xaxis\": {\"automargin\": true, \"gridcolor\": \"white\", \"linecolor\": \"white\", \"ticks\": \"\", \"title\": {\"standoff\": 15}, \"zerolinecolor\": \"white\", \"zerolinewidth\": 2}, \"yaxis\": {\"automargin\": true, \"gridcolor\": \"white\", \"linecolor\": \"white\", \"ticks\": \"\", \"title\": {\"standoff\": 15}, \"zerolinecolor\": \"white\", \"zerolinewidth\": 2}}}},                        {\"responsive\": true}                    ).then(function(){\n",
       "                            \n",
       "var gd = document.getElementById('0a4ebdb1-e997-4182-8f3e-a4ed5afd987e');\n",
       "var x = new MutationObserver(function (mutations, observer) {{\n",
       "        var display = window.getComputedStyle(gd).display;\n",
       "        if (!display || display === 'none') {{\n",
       "            console.log([gd, 'removed!']);\n",
       "            Plotly.purge(gd);\n",
       "            observer.disconnect();\n",
       "        }}\n",
       "}});\n",
       "\n",
       "// Listen for the removal of the full notebook cells\n",
       "var notebookContainer = gd.closest('#notebook-container');\n",
       "if (notebookContainer) {{\n",
       "    x.observe(notebookContainer, {childList: true});\n",
       "}}\n",
       "\n",
       "// Listen for the clearing of the current output cell\n",
       "var outputEl = gd.closest('.output');\n",
       "if (outputEl) {{\n",
       "    x.observe(outputEl, {childList: true});\n",
       "}}\n",
       "\n",
       "                        })                };                });            </script>        </div>"
      ]
     },
     "metadata": {},
     "output_type": "display_data"
    }
   ],
   "source": [
    "fig = px.sunburst(sunburst, path=['region', 'income_group', 'short_name','main_indicator'], values='2017')\n",
    "fig.show()"
   ]
  },
  {
   "cell_type": "raw",
   "id": "4e044cf5",
   "metadata": {
    "ExecuteTime": {
     "end_time": "2021-11-02T11:57:12.522565Z",
     "start_time": "2021-11-02T11:57:02.915336Z"
    }
   },
   "source": [
    "#data = trips.groupby(['short_name','main_indicator']).agg({'pickup_time':'count'}).reset_index()\n",
    "fig = px.sunburst(no_account_mm, path=['short_name','main_indicator'], values='2017',color='main_indicator')\n",
    "fig.update_layout( hovermode = 'x', \n",
    "                  title=\"No account with financial institution because ...\", font=dict(size = 10, color = 'white'), \n",
    "                  plot_bgcolor='black', paper_bgcolor='black',font_family=\"Roboto\", title_font_family=\"Roboto\" )\n",
    "#,color_discrete_map={'Manhattan':'#C9CCD5', 'Bronx':'#CDF0EA', 'Queens':'#D3E4CD','Brooklyn':'#FEF5ED'}\n",
    "fig.show()"
   ]
  },
  {
   "cell_type": "code",
   "execution_count": 116,
   "id": "b7a95fc8",
   "metadata": {
    "ExecuteTime": {
     "end_time": "2021-11-02T09:19:15.584149Z",
     "start_time": "2021-11-02T09:19:15.574798Z"
    }
   },
   "outputs": [],
   "source": [
    "#df.loc[df['income_group'].isnull()][['country_code','short_name']].drop_duplicates()\n",
    "#df.loc[df['income_group']=='Lower middle income'].short_name.unique()\n",
    "#df.loc[df['income_group']=='Low income'].short_name.unique()"
   ]
  },
  {
   "cell_type": "code",
   "execution_count": 162,
   "id": "a81fe04b",
   "metadata": {
    "ExecuteTime": {
     "end_time": "2021-11-03T02:01:07.685131Z",
     "start_time": "2021-11-03T02:01:07.673161Z"
    }
   },
   "outputs": [
    {
     "data": {
      "text/html": [
       "<div>\n",
       "<style scoped>\n",
       "    .dataframe tbody tr th:only-of-type {\n",
       "        vertical-align: middle;\n",
       "    }\n",
       "\n",
       "    .dataframe tbody tr th {\n",
       "        vertical-align: top;\n",
       "    }\n",
       "\n",
       "    .dataframe thead th {\n",
       "        text-align: right;\n",
       "    }\n",
       "</style>\n",
       "<table border=\"1\" class=\"dataframe\">\n",
       "  <thead>\n",
       "    <tr style=\"text-align: right;\">\n",
       "      <th></th>\n",
       "      <th>main_indicator</th>\n",
       "      <th>short_name</th>\n",
       "      <th>2017</th>\n",
       "    </tr>\n",
       "  </thead>\n",
       "  <tbody>\n",
       "    <tr>\n",
       "      <th>14122</th>\n",
       "      <td>Financial institution account</td>\n",
       "      <td>World</td>\n",
       "      <td>67.0</td>\n",
       "    </tr>\n",
       "    <tr>\n",
       "      <th>7435</th>\n",
       "      <td>Financial institution account</td>\n",
       "      <td>Lower middle income</td>\n",
       "      <td>56.0</td>\n",
       "    </tr>\n",
       "    <tr>\n",
       "      <th>14108</th>\n",
       "      <td>Debit card ownership</td>\n",
       "      <td>World</td>\n",
       "      <td>48.0</td>\n",
       "    </tr>\n",
       "    <tr>\n",
       "      <th>7421</th>\n",
       "      <td>Debit card ownership</td>\n",
       "      <td>Lower middle income</td>\n",
       "      <td>27.0</td>\n",
       "    </tr>\n",
       "    <tr>\n",
       "      <th>81398</th>\n",
       "      <td>Financial institution account</td>\n",
       "      <td>Myanmar</td>\n",
       "      <td>26.0</td>\n",
       "    </tr>\n",
       "    <tr>\n",
       "      <th>14095</th>\n",
       "      <td>Credit card ownership</td>\n",
       "      <td>World</td>\n",
       "      <td>18.0</td>\n",
       "    </tr>\n",
       "    <tr>\n",
       "      <th>7546</th>\n",
       "      <td>Mobile money account</td>\n",
       "      <td>Lower middle income</td>\n",
       "      <td>5.0</td>\n",
       "    </tr>\n",
       "    <tr>\n",
       "      <th>81385</th>\n",
       "      <td>Debit card ownership</td>\n",
       "      <td>Myanmar</td>\n",
       "      <td>5.0</td>\n",
       "    </tr>\n",
       "    <tr>\n",
       "      <th>14231</th>\n",
       "      <td>Mobile money account</td>\n",
       "      <td>World</td>\n",
       "      <td>4.0</td>\n",
       "    </tr>\n",
       "    <tr>\n",
       "      <th>7409</th>\n",
       "      <td>Credit card ownership</td>\n",
       "      <td>Lower middle income</td>\n",
       "      <td>3.0</td>\n",
       "    </tr>\n",
       "    <tr>\n",
       "      <th>81509</th>\n",
       "      <td>Mobile money account</td>\n",
       "      <td>Myanmar</td>\n",
       "      <td>1.0</td>\n",
       "    </tr>\n",
       "    <tr>\n",
       "      <th>81373</th>\n",
       "      <td>Credit card ownership</td>\n",
       "      <td>Myanmar</td>\n",
       "      <td>0.0</td>\n",
       "    </tr>\n",
       "  </tbody>\n",
       "</table>\n",
       "</div>"
      ],
      "text/plain": [
       "                       main_indicator           short_name  2017\n",
       "14122  Financial institution account                 World  67.0\n",
       "7435   Financial institution account   Lower middle income  56.0\n",
       "14108           Debit card ownership                 World  48.0\n",
       "7421            Debit card ownership   Lower middle income  27.0\n",
       "81398  Financial institution account               Myanmar  26.0\n",
       "14095          Credit card ownership                 World  18.0\n",
       "7546            Mobile money account   Lower middle income   5.0\n",
       "81385           Debit card ownership               Myanmar   5.0\n",
       "14231           Mobile money account                 World   4.0\n",
       "7409           Credit card ownership   Lower middle income   3.0\n",
       "81509           Mobile money account               Myanmar   1.0\n",
       "81373          Credit card ownership               Myanmar   0.0"
      ]
     },
     "execution_count": 162,
     "metadata": {},
     "output_type": "execute_result"
    }
   ],
   "source": [
    "ownership = ['Credit card ownership ','Debit card ownership ','Mobile money account ','Financial institution account ']\n",
    "ownership = selected.loc[(selected['main_indicator'].isin(ownership))]\n",
    "ownership['2017'] = np.round(ownership['2017'],decimals=0) \n",
    "ownership[['main_indicator','short_name','2017']].sort_values(by=['2017'],ascending=False)"
   ]
  }
 ],
 "metadata": {
  "kernelspec": {
   "display_name": "Python 3",
   "language": "python",
   "name": "python3"
  },
  "language_info": {
   "codemirror_mode": {
    "name": "ipython",
    "version": 3
   },
   "file_extension": ".py",
   "mimetype": "text/x-python",
   "name": "python",
   "nbconvert_exporter": "python",
   "pygments_lexer": "ipython3",
   "version": "3.7.1"
  }
 },
 "nbformat": 4,
 "nbformat_minor": 5
}
